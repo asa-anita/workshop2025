{
 "cells": [
  {
   "cell_type": "code",
   "execution_count": null,
   "id": "2f0c86e5",
   "metadata": {},
   "outputs": [],
   "source": [
    "import numpy as np\n",
    "\n",
    "import matplotlib.pyplot as plt\n",
    "\n",
    "from scipy.optimize import curve_fit"
   ]
  },
  {
   "cell_type": "markdown",
   "id": "e3e96859",
   "metadata": {},
   "source": [
    "**ANITA summer school on TDEs 2024**\n",
    "\n",
    "Adelle Goodwin"
   ]
  },
  {
   "cell_type": "markdown",
   "id": "66d80bc2",
   "metadata": {},
   "source": [
    "**Part one: Fitting radio synchrotron spectra of TDEs**\n",
    "\n",
    "Define some observational data"
   ]
  },
  {
   "cell_type": "code",
   "execution_count": null,
   "id": "82671083",
   "metadata": {},
   "outputs": [],
   "source": [
    "#VLA observation taken on 2021 Feb 27 of AT2020vwl\n",
    "freq1 = np.array([1.26,1.78, 3,4.5, 5.51, 6.49, 7.51, 9, 11]) #GHz\n",
    "flux1 = np.array([244,294, 412,500, 543, 576, 564, 517, 464]) #uJy\n",
    "flux_u1 = np.array([46,33, 10,14, 16, 14, 13, 9, 10]) #uJy\n",
    "\n",
    "\n",
    "#VLA observation taken on 2021 Aug 11 of AT2020vwl\n",
    "freq2 = np.array([1.284,1.52,2.5,3.24,4.49,5.51,6.49,7.51,9,11,15.08]) #GHz\n",
    "flux2= np.array([367, 366,457,468,410,284,266,207,186, 147, 115]) #uJy\n",
    "flux_u2 = np.array([22, 70,37,30,34,23,23,20,8.6,8.6, 6]) #uJy"
   ]
  },
  {
   "cell_type": "markdown",
   "id": "bd3dce68",
   "metadata": {},
   "source": [
    "Plot the data"
   ]
  },
  {
   "cell_type": "code",
   "execution_count": null,
   "id": "21b8bbde",
   "metadata": {},
   "outputs": [],
   "source": [
    "f = plt.figure(figsize=(5,5))\n",
    "\n",
    "plt.scatter(freq1, flux1, label='VLA 2021 Feb 27', color='purple')\n",
    "plt.errorbar(freq1, flux1, yerr=flux_u1,fmt='.',color='purple')\n",
    "\n",
    "plt.scatter(freq2, flux2, label='VLA 2021 Aug 11',color='pink')\n",
    "plt.errorbar(freq2, flux2, yerr=flux_u2,fmt='.',color='pink')\n",
    "\n",
    "\n",
    "plt.legend(loc=3)\n",
    "# we always plot radio spectra on a log-log scale. Don't ask why. I don't know. \n",
    "plt.xscale('log')\n",
    "plt.yscale('log')\n",
    "plt.xlabel('Frequency (GHz)')\n",
    "plt.ylabel('Flux density (uJy)')\n",
    "plt.title('AT2020vwl VLA observations')"
   ]
  },
  {
   "cell_type": "markdown",
   "id": "30d69a16",
   "metadata": {},
   "source": [
    "Let's do a phenomenological fit to the power-law indices either side of the breaks"
   ]
  },
  {
   "cell_type": "code",
   "execution_count": null,
   "id": "091430e1",
   "metadata": {},
   "outputs": [],
   "source": [
    "# define a powerlaw function\n",
    "def powerlaw_simple(x,a,b):\n",
    "    return a*x**b"
   ]
  },
  {
   "cell_type": "code",
   "execution_count": null,
   "id": "fafc0dd8",
   "metadata": {},
   "outputs": [],
   "source": [
    "# fit the simple power law to epoch 1 data below the break, i.e. the first 6 data points\n",
    "\n",
    "from scipy.optimize import curve_fit\n",
    "\n",
    "popt, pcov = curve_fit(f=powerlaw_simple, xdata=freq1[:6], ydata=flux1[:6])\n",
    "\n",
    "f = plt.figure(figsize=(5,5))\n",
    "\n",
    "plt.plot(freq1[:6], powerlaw_simple(freq1[:6], *popt),label='simple fit')\n",
    "\n",
    "plt.scatter(freq1, flux1, label='VLA 2021 Feb 27', color='purple')\n",
    "plt.errorbar(freq1, flux1, yerr=flux_u1,fmt='.',color='purple')\n",
    "plt.legend(loc=3)\n",
    "plt.xscale('log')\n",
    "plt.yscale('log')\n",
    "plt.xlabel('Frequency (GHz)')\n",
    "plt.ylabel('Flux density (uJy)')\n",
    "\n",
    "print(f'The power-law index below the break is {popt[1]}')"
   ]
  },
  {
   "cell_type": "code",
   "execution_count": null,
   "id": "d2b3f7ba",
   "metadata": {},
   "outputs": [],
   "source": [
    "# fit the simple power law to epoch 1 data above the break, i.e. the last 3 data points\n",
    "\n",
    "popt, pcov = curve_fit(f=powerlaw_simple, xdata=freq1[-3:], ydata=flux1[-3:])\n",
    "\n",
    "f = plt.figure(figsize=(5,5))\n",
    "\n",
    "plt.plot(freq1[-3:], powerlaw_simple(freq1[-3:], *popt),label='simple fit')\n",
    "\n",
    "plt.scatter(freq1, flux1, label='VLA 2021 Feb 27', color='purple')\n",
    "plt.errorbar(freq1, flux1, yerr=flux_u1,fmt='.',color='purple')\n",
    "plt.legend(loc=3)\n",
    "plt.xscale('log')\n",
    "plt.yscale('log')\n",
    "plt.xlabel('Frequency (GHz)')\n",
    "plt.ylabel('Flux density (uJy)')\n",
    "\n",
    "print(f'The power-law index above the break is {popt[1]}')"
   ]
  },
  {
   "cell_type": "code",
   "execution_count": null,
   "id": "95435643",
   "metadata": {},
   "outputs": [],
   "source": [
    "# repeat for the August epoch\n",
    "\n",
    "# fit the simple power law to epoch 2 data below the break, i.e. the first 4 data points\n",
    "\n",
    "popt, pcov = curve_fit(f=powerlaw_simple, xdata=freq2[:4], ydata=flux2[:4])\n",
    "\n",
    "f = plt.figure(figsize=(5,5))\n",
    "\n",
    "plt.plot(freq2[:4], powerlaw_simple(freq2[:4], *popt),label='simple fit')\n",
    "\n",
    "plt.scatter(freq2, flux2, label='VLA 2021 Aug 11', color='pink')\n",
    "plt.errorbar(freq2, flux2, yerr=flux_u2,fmt='.',color='pink')\n",
    "plt.legend(loc=3)\n",
    "plt.xscale('log')\n",
    "plt.yscale('log')\n",
    "plt.xlabel('Frequency (GHz)')\n",
    "plt.ylabel('Flux density (uJy)')\n",
    "\n",
    "print(f'The power-law index below the break is {popt[1]}')"
   ]
  },
  {
   "cell_type": "code",
   "execution_count": null,
   "id": "c7fd007e",
   "metadata": {},
   "outputs": [],
   "source": [
    "# repeat for the August epoch\n",
    "\n",
    "# fit the simple power law to epoch 2 data above the break, i.e. the last 8 data points\n",
    "\n",
    "popt, pcov = curve_fit(f=powerlaw_simple, xdata=freq2[-8:], ydata=flux2[-8:])\n",
    "\n",
    "f = plt.figure(figsize=(5,5))\n",
    "\n",
    "plt.plot(freq2[-8:], powerlaw_simple(freq2[-8:], *popt),label='simple fit')\n",
    "\n",
    "plt.scatter(freq2, flux2, label='VLA 2021 Aug 11', color='pink')\n",
    "plt.errorbar(freq2, flux2, yerr=flux_u2,fmt='.',color='pink')\n",
    "plt.legend(loc=3)\n",
    "plt.xscale('log')\n",
    "plt.yscale('log')\n",
    "plt.xlabel('Frequency (GHz)')\n",
    "plt.ylabel('Flux density (uJy)')\n",
    "\n",
    "\n",
    "print(f'The power-law index below the break is {popt[1]}, i.e. p={1-2*popt[1]}')"
   ]
  },
  {
   "cell_type": "code",
   "execution_count": null,
   "id": "2c4a3c9f",
   "metadata": {},
   "outputs": [],
   "source": [
    "# Now let's try a physically motivated synchrotron emission model from Granot+Sari (2002) \n",
    "# for the synchrotron self-absorption break vm < vsa < vc\n",
    "\n",
    "def GS02_powerlaw(v, Fvb, vb, va, p):\n",
    "\n",
    "            beta2 = 5/2\n",
    "            beta3 =(1-p)/2 \n",
    "            s4 = 3.63*p - 1.60\n",
    "            s2 = 1.25-0.18*p\n",
    "\n",
    "            Fv1 = Fvb * ((v / vb) ** 2 * np.exp(-s4*(v/vb)**(2/3)) + \\\n",
    "                         (v / vb) ** (5/2)) * (1 + (v/va)**(s2*(beta2-beta3)))**(-1/s2)\n",
    "            return Fv1"
   ]
  },
  {
   "cell_type": "code",
   "execution_count": null,
   "id": "7776e945",
   "metadata": {},
   "outputs": [],
   "source": [
    "popt, pcov = curve_fit(f=GS02_powerlaw, xdata=freq2, ydata=flux2, p0=(1e3,0.5,5,2.5), \\\n",
    "                       bounds=([1e-3,0.1,0.1,2],[1e6,15,15,3.5]))\n",
    "\n",
    "f = plt.figure(figsize=(5,5))\n",
    "\n",
    "plt.plot(freq2, GS02_powerlaw(freq2, *popt),label='GS02 fit')\n",
    "\n",
    "plt.scatter(freq2, flux2, label='VLA 2021 Aug 11', color='pink')\n",
    "plt.errorbar(freq2, flux2, yerr=flux_u2,fmt='.',color='pink')\n",
    "plt.legend(loc=3)\n",
    "plt.xscale('log')\n",
    "plt.yscale('log')\n",
    "plt.xlabel('Frequency (GHz)')\n",
    "plt.ylabel('Flux density (uJy)')\n",
    "\n",
    "\n",
    "print(f'The synchrotron power-law index p is {popt[3]}')"
   ]
  },
  {
   "cell_type": "code",
   "execution_count": null,
   "id": "081048bc",
   "metadata": {},
   "outputs": [],
   "source": [
    "# do the fit\n",
    "popt, pcov = curve_fit(f=GS02_powerlaw, xdata=freq1, ydata=flux1, p0=(1e3,0.5,5,2.5), \\\n",
    "                       bounds=([1e-3,0.1,0.1,2],[1e6,15,15,3.5]))\n",
    "\n",
    "# plot the output\n",
    "f = plt.figure(figsize=(5,5))\n",
    "\n",
    "plt.plot(freq1, GS02_powerlaw(freq1, *popt),label='GS02 fit')\n",
    "\n",
    "plt.scatter(freq1, flux1, label='VLA 2021 Feb 27', color='purple')\n",
    "plt.errorbar(freq1, flux1, yerr=flux_u1,fmt='.',color='purple')\n",
    "plt.legend(loc=3)\n",
    "plt.xscale('log')\n",
    "plt.yscale('log')\n",
    "plt.xlabel('Frequency (GHz)')\n",
    "plt.ylabel('Flux density (uJy)')\n",
    "\n",
    "# print the synchrotron powerlaw index\n",
    "print(f'The synchrotron power-law index p is {popt[3]}')"
   ]
  },
  {
   "cell_type": "markdown",
   "id": "269ea1a6",
   "metadata": {},
   "source": [
    "The February epoch is not a good fit. \n",
    "This could be because the early time low-frequency emission is dominated by galaxy host emission.\n",
    "Let's try subtracting a host component and then fit again"
   ]
  },
  {
   "cell_type": "code",
   "execution_count": null,
   "id": "2cdc9859",
   "metadata": {},
   "outputs": [],
   "source": [
    "# define host component, where the total flux is Ftot = Fsynch + Fhost\n",
    "# see Goodwin+2023b for how the host spectrum was constrained\n",
    "host = (0.178e3)*(freq1/1.4)**(-1.088)\n",
    "\n",
    "# do the fit again, subtracting the host component this time\n",
    "popt, pcov = curve_fit(f=GS02_powerlaw, xdata=freq1, ydata=flux1-host, p0=(1e3,0.5,5,2.5), \\\n",
    "                       bounds=([1e-3,0.1,0.1,2],[1e6,15,15,3.5]))\n",
    "\n",
    "# plot the results\n",
    "\n",
    "f = plt.figure(figsize=(5,5))\n",
    "\n",
    "plt.plot(freq1, GS02_powerlaw(freq1, *popt),label='GS02 fit')\n",
    "\n",
    "plt.scatter(freq1, flux1-host, label='VLA 2021 Feb 27 host sub', color='purple')\n",
    "plt.errorbar(freq1, flux1-host, yerr=flux_u1,fmt='.',color='purple')\n",
    "plt.legend(loc=3)\n",
    "plt.xscale('log')\n",
    "plt.yscale('log')\n",
    "plt.xlabel('Frequency (GHz)')\n",
    "plt.ylabel('Flux density (uJy)')\n",
    "\n",
    "# print the synchrotron power-law index\n",
    "print(f'The synchrotron power-law index p is {popt[3]}')"
   ]
  },
  {
   "cell_type": "markdown",
   "id": "9a617de4",
   "metadata": {},
   "source": [
    "This is a much better fit!"
   ]
  },
  {
   "cell_type": "markdown",
   "id": "6e19917c",
   "metadata": {},
   "source": [
    "Now you can try fitting a different source on your own, e.g. AT2020opy from Goodwin+2023a"
   ]
  },
  {
   "cell_type": "code",
   "execution_count": null,
   "id": "83dc1fa2",
   "metadata": {},
   "outputs": [],
   "source": [
    "# Define the observed quantitites\n",
    "flux1 = np.array([53,60,75, 91,134,139, 133.8, 137, 136.7,98.8]) #2020 Dec 20\n",
    "flux_u1 = np.array([13,13,11, 12, 15,11,8.3,9.45, 10,10])\n",
    "freq1 = np.array([3.24,3.754,4.49, 5.51,6.5,7.5, 9.0, 11., 13.5,16.5])\n",
    "\n",
    "flux2 = np.array([251,228,252,256,241,175, 198,139]) #2021 June 21\n",
    "flux_u2 = np.array([100,27,17,17,16,14,9,11])\n",
    "freq2 = np.array([2.5,3.5,4.5,5.5,6.49,7.5,9,11])"
   ]
  },
  {
   "cell_type": "code",
   "execution_count": null,
   "id": "88d67fe5",
   "metadata": {},
   "outputs": [],
   "source": [
    "# first plot the data\n",
    "\n",
    "f = plt.figure(figsize=(5,5))\n",
    "\n",
    "\n"
   ]
  },
  {
   "cell_type": "code",
   "execution_count": null,
   "id": "fb0d5a38",
   "metadata": {},
   "outputs": [],
   "source": [
    "# Now choose a model and fit the spectra\n"
   ]
  },
  {
   "cell_type": "code",
   "execution_count": null,
   "id": "caa3e013",
   "metadata": {},
   "outputs": [],
   "source": [
    "# Plot the results"
   ]
  },
  {
   "cell_type": "code",
   "execution_count": null,
   "id": "6ae2132a",
   "metadata": {},
   "outputs": [],
   "source": []
  },
  {
   "cell_type": "markdown",
   "id": "146162d1",
   "metadata": {},
   "source": [
    "**Part two: extracting physical outflow properties from synchrotron spectral properties**\n",
    "\n",
    "Based on the equipartition method outlined by Barniol Duran+2013 and your synchrotron constraints from above, determine the radius, energy, ambient denisty, velocity, and mass in the emitting region for each epoch of each source. "
   ]
  },
  {
   "cell_type": "code",
   "execution_count": null,
   "id": "734ee847",
   "metadata": {},
   "outputs": [],
   "source": []
  }
 ],
 "metadata": {
  "kernelspec": {
   "display_name": "Python 3 (ipykernel)",
   "language": "python",
   "name": "python3"
  },
  "language_info": {
   "codemirror_mode": {
    "name": "ipython",
    "version": 3
   },
   "file_extension": ".py",
   "mimetype": "text/x-python",
   "name": "python",
   "nbconvert_exporter": "python",
   "pygments_lexer": "ipython3",
   "version": "3.8.17"
  }
 },
 "nbformat": 4,
 "nbformat_minor": 5
}
